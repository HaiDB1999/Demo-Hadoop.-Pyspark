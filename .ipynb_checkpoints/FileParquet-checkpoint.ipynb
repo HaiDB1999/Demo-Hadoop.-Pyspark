{
 "cells": [
  {
   "cell_type": "code",
   "execution_count": 1,
   "id": "3989c893",
   "metadata": {},
   "outputs": [
    {
     "data": {
      "text/html": [
       "\n",
       "            <div>\n",
       "                <p><b>SparkSession - in-memory</b></p>\n",
       "                \n",
       "        <div>\n",
       "            <p><b>SparkContext</b></p>\n",
       "\n",
       "            <p><a href=\"http://linux:4040\">Spark UI</a></p>\n",
       "\n",
       "            <dl>\n",
       "              <dt>Version</dt>\n",
       "                <dd><code>v3.1.2</code></dd>\n",
       "              <dt>Master</dt>\n",
       "                <dd><code>spark://linux:7077</code></dd>\n",
       "              <dt>AppName</dt>\n",
       "                <dd><code>FileParquet Demo</code></dd>\n",
       "            </dl>\n",
       "        </div>\n",
       "        \n",
       "            </div>\n",
       "        "
      ],
      "text/plain": [
       "<pyspark.sql.session.SparkSession at 0x7f8ae03b08b0>"
      ]
     },
     "execution_count": 1,
     "metadata": {},
     "output_type": "execute_result"
    }
   ],
   "source": [
    "from pyspark import SparkContext\n",
    "from pyspark.sql import SparkSession\n",
    "\n",
    "from pyspark.sql import SparkSession\n",
    "my_spark = SparkSession \\\n",
    "    .builder \\\n",
    "    .master(\"spark://linux:7077\")\\\n",
    "    .appName(\"FileParquet Demo\") \\\n",
    "    .config(\"spark.some.config.option\", \"some-value\") \\\n",
    "    .getOrCreate()\n",
    "my_spark"
   ]
  },
  {
   "cell_type": "code",
   "execution_count": 2,
   "id": "33be292a",
   "metadata": {},
   "outputs": [],
   "source": [
    "Flights = my_spark.read.csv('hdfs://localhost:9001/user/input/flights.csv', header=True)"
   ]
  },
  {
   "cell_type": "code",
   "execution_count": 3,
   "id": "7fb817bd",
   "metadata": {
    "scrolled": true
   },
   "outputs": [
    {
     "name": "stdout",
     "output_type": "stream",
     "text": [
      "+----+-----+---+-----------+-------+-------------+-----------+--------------+-------------------+-------------------+--------------+---------------+--------+----------+--------------+------------+--------+--------+---------+-------+-----------------+------------+-------------+--------+---------+-------------------+----------------+--------------+-------------+-------------------+-------------+\n",
      "|YEAR|MONTH|DAY|DAY_OF_WEEK|AIRLINE|FLIGHT_NUMBER|TAIL_NUMBER|ORIGIN_AIRPORT|DESTINATION_AIRPORT|SCHEDULED_DEPARTURE|DEPARTURE_TIME|DEPARTURE_DELAY|TAXI_OUT|WHEELS_OFF|SCHEDULED_TIME|ELAPSED_TIME|AIR_TIME|DISTANCE|WHEELS_ON|TAXI_IN|SCHEDULED_ARRIVAL|ARRIVAL_TIME|ARRIVAL_DELAY|DIVERTED|CANCELLED|CANCELLATION_REASON|AIR_SYSTEM_DELAY|SECURITY_DELAY|AIRLINE_DELAY|LATE_AIRCRAFT_DELAY|WEATHER_DELAY|\n",
      "+----+-----+---+-----------+-------+-------------+-----------+--------------+-------------------+-------------------+--------------+---------------+--------+----------+--------------+------------+--------+--------+---------+-------+-----------------+------------+-------------+--------+---------+-------------------+----------------+--------------+-------------+-------------------+-------------+\n",
      "|2015|    1|  1|          4|     AS|           98|     N407AS|           ANC|                SEA|               0005|          2354|            -11|      21|      0015|           205|         194|     169|    1448|     0404|      4|             0430|        0408|          -22|       0|        0|               null|            null|          null|         null|               null|         null|\n",
      "|2015|    1|  1|          4|     AA|         2336|     N3KUAA|           LAX|                PBI|               0010|          0002|             -8|      12|      0014|           280|         279|     263|    2330|     0737|      4|             0750|        0741|           -9|       0|        0|               null|            null|          null|         null|               null|         null|\n",
      "|2015|    1|  1|          4|     US|          840|     N171US|           SFO|                CLT|               0020|          0018|             -2|      16|      0034|           286|         293|     266|    2296|     0800|     11|             0806|        0811|            5|       0|        0|               null|            null|          null|         null|               null|         null|\n",
      "|2015|    1|  1|          4|     AA|          258|     N3HYAA|           LAX|                MIA|               0020|          0015|             -5|      15|      0030|           285|         281|     258|    2342|     0748|      8|             0805|        0756|           -9|       0|        0|               null|            null|          null|         null|               null|         null|\n",
      "|2015|    1|  1|          4|     AS|          135|     N527AS|           SEA|                ANC|               0025|          0024|             -1|      11|      0035|           235|         215|     199|    1448|     0254|      5|             0320|        0259|          -21|       0|        0|               null|            null|          null|         null|               null|         null|\n",
      "+----+-----+---+-----------+-------+-------------+-----------+--------------+-------------------+-------------------+--------------+---------------+--------+----------+--------------+------------+--------+--------+---------+-------+-----------------+------------+-------------+--------+---------+-------------------+----------------+--------------+-------------+-------------------+-------------+\n",
      "only showing top 5 rows\n",
      "\n"
     ]
    }
   ],
   "source": [
    "Flights.show(5)"
   ]
  },
  {
   "cell_type": "code",
   "execution_count": 7,
   "id": "3f66585c",
   "metadata": {},
   "outputs": [],
   "source": [
    "Flights.write.parquet('hdfs://localhost:9001/user/output/flights_parquet')"
   ]
  },
  {
   "cell_type": "markdown",
   "id": "ee84fb14",
   "metadata": {},
   "source": [
    "## In ra list file trong flights_parquet"
   ]
  },
  {
   "cell_type": "code",
   "execution_count": 4,
   "id": "2c6d4db1",
   "metadata": {},
   "outputs": [
    {
     "name": "stdout",
     "output_type": "stream",
     "text": [
      "part-00000-c964937a-b1dd-4c9f-845e-f5ebe71737b5-c000.snappy.parquet\n",
      "part-00001-c964937a-b1dd-4c9f-845e-f5ebe71737b5-c000.snappy.parquet\n",
      "part-00002-c964937a-b1dd-4c9f-845e-f5ebe71737b5-c000.snappy.parquet\n",
      "part-00003-c964937a-b1dd-4c9f-845e-f5ebe71737b5-c000.snappy.parquet\n",
      "part-00004-c964937a-b1dd-4c9f-845e-f5ebe71737b5-c000.snappy.parquet\n",
      "part-00005-c964937a-b1dd-4c9f-845e-f5ebe71737b5-c000.snappy.parquet\n",
      "part-00006-c964937a-b1dd-4c9f-845e-f5ebe71737b5-c000.snappy.parquet\n",
      "part-00007-c964937a-b1dd-4c9f-845e-f5ebe71737b5-c000.snappy.parquet\n"
     ]
    }
   ],
   "source": [
    "import os\n",
    "import subprocess\n",
    "import re\n",
    "pattern = 'part.*\\.parquet$'\n",
    "\n",
    "cmd = 'hdfs dfs -ls /user/output/flights_parquet'\n",
    "files = str(subprocess.check_output(cmd, shell=True)).split('\\\\')\n",
    "for path in files:\n",
    "    try:\n",
    "        print(re.findall(pattern, path)[0])\n",
    "    except:\n",
    "        pass"
   ]
  },
  {
   "cell_type": "code",
   "execution_count": 5,
   "id": "6739078d",
   "metadata": {},
   "outputs": [],
   "source": [
    "my_spark.stop()"
   ]
  },
  {
   "cell_type": "code",
   "execution_count": 28,
   "id": "9a09ce7c",
   "metadata": {},
   "outputs": [
    {
     "name": "stdout",
     "output_type": "stream",
     "text": [
      "d60a6889b57b5efc93e1f7cd59b2b822259aacada018e55c2e38756a67d5b78b\n"
     ]
    }
   ],
   "source": [
    "import re\n",
    "str1 = '2021-01-19 01:37:14,205 INFO com.bgt.BGTClient [qtp1013312187-30] custid = 113294509 , updateCustomer data : ?custid=113294509&custData=<custData><pass>d60a6889b57b5efc93e1f7cd59b2b822259aacada018e55c2e38756a67d5b78b</pass><status>A</status></custData>'\n",
    "pattern = '<pass>(.*)<\\/pass>'\n",
    "x = re.findall(pattern, str1)[0]\n",
    "print(x)"
   ]
  },
  {
   "cell_type": "code",
   "execution_count": null,
   "id": "b2886352",
   "metadata": {},
   "outputs": [],
   "source": []
  }
 ],
 "metadata": {
  "kernelspec": {
   "display_name": "Python 3",
   "language": "python",
   "name": "python3"
  },
  "language_info": {
   "codemirror_mode": {
    "name": "ipython",
    "version": 3
   },
   "file_extension": ".py",
   "mimetype": "text/x-python",
   "name": "python",
   "nbconvert_exporter": "python",
   "pygments_lexer": "ipython3",
   "version": "3.8.8"
  }
 },
 "nbformat": 4,
 "nbformat_minor": 5
}
