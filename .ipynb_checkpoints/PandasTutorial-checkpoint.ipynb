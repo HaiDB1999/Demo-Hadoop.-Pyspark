{
 "cells": [
  {
   "cell_type": "code",
   "execution_count": 1,
   "metadata": {},
   "outputs": [],
   "source": [
    "import pandas as pd\n",
    "import numpy as np\n",
    "import matplotlib.pyplot as plt\n",
    "\n",
    "# Make the graphs a bit prettier, and bigger\n",
    "plt.style.use(\n",
    "    'ggplot')\n",
    "plt.rcParams['figure.figsize'] = (15, 5)"
   ]
  },
  {
   "cell_type": "code",
   "execution_count": 6,
   "metadata": {},
   "outputs": [
    {
     "data": {
      "text/html": [
       "<div>\n",
       "<style scoped>\n",
       "    .dataframe tbody tr th:only-of-type {\n",
       "        vertical-align: middle;\n",
       "    }\n",
       "\n",
       "    .dataframe tbody tr th {\n",
       "        vertical-align: top;\n",
       "    }\n",
       "\n",
       "    .dataframe thead th {\n",
       "        text-align: right;\n",
       "    }\n",
       "</style>\n",
       "<table border=\"1\" class=\"dataframe\">\n",
       "  <thead>\n",
       "    <tr style=\"text-align: right;\">\n",
       "      <th></th>\n",
       "      <th>Dia</th>\n",
       "      <th>GDCD</th>\n",
       "      <th>Hoa</th>\n",
       "      <th>Li</th>\n",
       "      <th>Ma_mon_ngoai_ngu</th>\n",
       "      <th>Ngoai_ngu</th>\n",
       "      <th>Sinh</th>\n",
       "      <th>Su</th>\n",
       "      <th>Toan</th>\n",
       "      <th>Van</th>\n",
       "      <th>sbd</th>\n",
       "    </tr>\n",
       "  </thead>\n",
       "  <tbody>\n",
       "    <tr>\n",
       "      <th>0</th>\n",
       "      <td>7.75</td>\n",
       "      <td>8.75</td>\n",
       "      <td>NaN</td>\n",
       "      <td>NaN</td>\n",
       "      <td>N1</td>\n",
       "      <td>7.6</td>\n",
       "      <td>NaN</td>\n",
       "      <td>8.25</td>\n",
       "      <td>8.2</td>\n",
       "      <td>8.00</td>\n",
       "      <td>24008611</td>\n",
       "    </tr>\n",
       "    <tr>\n",
       "      <th>1</th>\n",
       "      <td>NaN</td>\n",
       "      <td>NaN</td>\n",
       "      <td>4.5</td>\n",
       "      <td>8.25</td>\n",
       "      <td>N1</td>\n",
       "      <td>8.0</td>\n",
       "      <td>6.0</td>\n",
       "      <td>NaN</td>\n",
       "      <td>8.6</td>\n",
       "      <td>6.17</td>\n",
       "      <td>51000032</td>\n",
       "    </tr>\n",
       "    <tr>\n",
       "      <th>2</th>\n",
       "      <td>4.25</td>\n",
       "      <td>5.75</td>\n",
       "      <td>NaN</td>\n",
       "      <td>NaN</td>\n",
       "      <td>NaN</td>\n",
       "      <td>NaN</td>\n",
       "      <td>NaN</td>\n",
       "      <td>4.00</td>\n",
       "      <td>5.2</td>\n",
       "      <td>4.75</td>\n",
       "      <td>51000005</td>\n",
       "    </tr>\n",
       "    <tr>\n",
       "      <th>3</th>\n",
       "      <td>4.75</td>\n",
       "      <td>5.00</td>\n",
       "      <td>NaN</td>\n",
       "      <td>NaN</td>\n",
       "      <td>NaN</td>\n",
       "      <td>NaN</td>\n",
       "      <td>NaN</td>\n",
       "      <td>2.25</td>\n",
       "      <td>4.4</td>\n",
       "      <td>4.50</td>\n",
       "      <td>51000021</td>\n",
       "    </tr>\n",
       "    <tr>\n",
       "      <th>4</th>\n",
       "      <td>8.25</td>\n",
       "      <td>7.50</td>\n",
       "      <td>NaN</td>\n",
       "      <td>NaN</td>\n",
       "      <td>N1</td>\n",
       "      <td>4.4</td>\n",
       "      <td>NaN</td>\n",
       "      <td>7.75</td>\n",
       "      <td>5.8</td>\n",
       "      <td>6.00</td>\n",
       "      <td>51000013</td>\n",
       "    </tr>\n",
       "  </tbody>\n",
       "</table>\n",
       "</div>"
      ],
      "text/plain": [
       "    Dia  GDCD  Hoa    Li Ma_mon_ngoai_ngu  Ngoai_ngu  Sinh    Su  Toan   Van  \\\n",
       "0  7.75  8.75  NaN   NaN               N1        7.6   NaN  8.25   8.2  8.00   \n",
       "1   NaN   NaN  4.5  8.25               N1        8.0   6.0   NaN   8.6  6.17   \n",
       "2  4.25  5.75  NaN   NaN              NaN        NaN   NaN  4.00   5.2  4.75   \n",
       "3  4.75  5.00  NaN   NaN              NaN        NaN   NaN  2.25   4.4  4.50   \n",
       "4  8.25  7.50  NaN   NaN               N1        4.4   NaN  7.75   5.8  6.00   \n",
       "\n",
       "        sbd  \n",
       "0  24008611  \n",
       "1  51000032  \n",
       "2  51000005  \n",
       "3  51000021  \n",
       "4  51000013  "
      ]
     },
     "execution_count": 6,
     "metadata": {},
     "output_type": "execute_result"
    }
   ],
   "source": [
    "df = pd.read_csv('../../Data/diemthi2019.csv', header=0, index_col=0)\n",
    "df.head()"
   ]
  },
  {
   "cell_type": "code",
   "execution_count": 14,
   "metadata": {},
   "outputs": [
    {
     "data": {
      "text/html": [
       "<div>\n",
       "<style scoped>\n",
       "    .dataframe tbody tr th:only-of-type {\n",
       "        vertical-align: middle;\n",
       "    }\n",
       "\n",
       "    .dataframe tbody tr th {\n",
       "        vertical-align: top;\n",
       "    }\n",
       "\n",
       "    .dataframe thead th {\n",
       "        text-align: right;\n",
       "    }\n",
       "</style>\n",
       "<table border=\"1\" class=\"dataframe\">\n",
       "  <thead>\n",
       "    <tr style=\"text-align: right;\">\n",
       "      <th></th>\n",
       "      <th>Ngoai_ngu</th>\n",
       "    </tr>\n",
       "    <tr>\n",
       "      <th>Ma_mon_ngoai_ngu</th>\n",
       "      <th></th>\n",
       "    </tr>\n",
       "  </thead>\n",
       "  <tbody>\n",
       "    <tr>\n",
       "      <th>N1</th>\n",
       "      <td>726064</td>\n",
       "    </tr>\n",
       "    <tr>\n",
       "      <th>N2</th>\n",
       "      <td>148</td>\n",
       "    </tr>\n",
       "    <tr>\n",
       "      <th>N3</th>\n",
       "      <td>646</td>\n",
       "    </tr>\n",
       "    <tr>\n",
       "      <th>N4</th>\n",
       "      <td>801</td>\n",
       "    </tr>\n",
       "    <tr>\n",
       "      <th>N5</th>\n",
       "      <td>81</td>\n",
       "    </tr>\n",
       "    <tr>\n",
       "      <th>N6</th>\n",
       "      <td>773</td>\n",
       "    </tr>\n",
       "  </tbody>\n",
       "</table>\n",
       "</div>"
      ],
      "text/plain": [
       "                  Ngoai_ngu\n",
       "Ma_mon_ngoai_ngu           \n",
       "N1                   726064\n",
       "N2                      148\n",
       "N3                      646\n",
       "N4                      801\n",
       "N5                       81\n",
       "N6                      773"
      ]
     },
     "execution_count": 14,
     "metadata": {},
     "output_type": "execute_result"
    }
   ],
   "source": [
    "df.groupby(by = 'Ma_mon_ngoai_ngu').count()[['Ngoai_ngu']]"
   ]
  },
  {
   "cell_type": "markdown",
   "metadata": {},
   "source": [
    "## Dataset overview"
   ]
  },
  {
   "cell_type": "code",
   "execution_count": 122,
   "metadata": {},
   "outputs": [
    {
     "data": {
      "text/plain": [
       "(811851, 11)"
      ]
     },
     "execution_count": 122,
     "metadata": {},
     "output_type": "execute_result"
    }
   ],
   "source": [
    "df.shape"
   ]
  },
  {
   "cell_type": "markdown",
   "metadata": {},
   "source": [
    "### Cái nhìn tổng quan về số lượng dữ liệu các trường bị thiếu"
   ]
  },
  {
   "cell_type": "code",
   "execution_count": 123,
   "metadata": {},
   "outputs": [
    {
     "name": "stdout",
     "output_type": "stream",
     "text": [
      "<class 'pandas.core.frame.DataFrame'>\n",
      "Int64Index: 811851 entries, 0 to 811850\n",
      "Data columns (total 11 columns):\n",
      " #   Column            Non-Null Count   Dtype  \n",
      "---  ------            --------------   -----  \n",
      " 0   Dia               535897 non-null  float64\n",
      " 1   GDCD              470905 non-null  float64\n",
      " 2   Hoa               295544 non-null  float64\n",
      " 3   Li                292166 non-null  float64\n",
      " 4   Ma_mon_ngoai_ngu  728513 non-null  object \n",
      " 5   Ngoai_ngu         728513 non-null  float64\n",
      " 6   Sinh              291199 non-null  float64\n",
      " 7   Su                542729 non-null  float64\n",
      " 8   Toan              807762 non-null  float64\n",
      " 9   Van               799208 non-null  float64\n",
      " 10  sbd               811851 non-null  int64  \n",
      "dtypes: float64(9), int64(1), object(1)\n",
      "memory usage: 74.3+ MB\n"
     ]
    }
   ],
   "source": [
    "df.info()"
   ]
  },
  {
   "cell_type": "markdown",
   "metadata": {},
   "source": [
    "### Chọn nhiều cột"
   ]
  },
  {
   "cell_type": "code",
   "execution_count": 124,
   "metadata": {},
   "outputs": [
    {
     "data": {
      "text/html": [
       "<div>\n",
       "<style scoped>\n",
       "    .dataframe tbody tr th:only-of-type {\n",
       "        vertical-align: middle;\n",
       "    }\n",
       "\n",
       "    .dataframe tbody tr th {\n",
       "        vertical-align: top;\n",
       "    }\n",
       "\n",
       "    .dataframe thead th {\n",
       "        text-align: right;\n",
       "    }\n",
       "</style>\n",
       "<table border=\"1\" class=\"dataframe\">\n",
       "  <thead>\n",
       "    <tr style=\"text-align: right;\">\n",
       "      <th></th>\n",
       "      <th>Toan</th>\n",
       "      <th>Li</th>\n",
       "      <th>Hoa</th>\n",
       "    </tr>\n",
       "  </thead>\n",
       "  <tbody>\n",
       "    <tr>\n",
       "      <th>0</th>\n",
       "      <td>8.2</td>\n",
       "      <td>NaN</td>\n",
       "      <td>NaN</td>\n",
       "    </tr>\n",
       "    <tr>\n",
       "      <th>1</th>\n",
       "      <td>8.6</td>\n",
       "      <td>8.25</td>\n",
       "      <td>4.5</td>\n",
       "    </tr>\n",
       "    <tr>\n",
       "      <th>2</th>\n",
       "      <td>5.2</td>\n",
       "      <td>NaN</td>\n",
       "      <td>NaN</td>\n",
       "    </tr>\n",
       "    <tr>\n",
       "      <th>3</th>\n",
       "      <td>4.4</td>\n",
       "      <td>NaN</td>\n",
       "      <td>NaN</td>\n",
       "    </tr>\n",
       "    <tr>\n",
       "      <th>4</th>\n",
       "      <td>5.8</td>\n",
       "      <td>NaN</td>\n",
       "      <td>NaN</td>\n",
       "    </tr>\n",
       "    <tr>\n",
       "      <th>...</th>\n",
       "      <td>...</td>\n",
       "      <td>...</td>\n",
       "      <td>...</td>\n",
       "    </tr>\n",
       "    <tr>\n",
       "      <th>811846</th>\n",
       "      <td>4.4</td>\n",
       "      <td>NaN</td>\n",
       "      <td>NaN</td>\n",
       "    </tr>\n",
       "    <tr>\n",
       "      <th>811847</th>\n",
       "      <td>5.2</td>\n",
       "      <td>3.75</td>\n",
       "      <td>4.5</td>\n",
       "    </tr>\n",
       "    <tr>\n",
       "      <th>811848</th>\n",
       "      <td>2.8</td>\n",
       "      <td>NaN</td>\n",
       "      <td>NaN</td>\n",
       "    </tr>\n",
       "    <tr>\n",
       "      <th>811849</th>\n",
       "      <td>6.2</td>\n",
       "      <td>NaN</td>\n",
       "      <td>NaN</td>\n",
       "    </tr>\n",
       "    <tr>\n",
       "      <th>811850</th>\n",
       "      <td>6.4</td>\n",
       "      <td>5.25</td>\n",
       "      <td>4.5</td>\n",
       "    </tr>\n",
       "  </tbody>\n",
       "</table>\n",
       "<p>811851 rows × 3 columns</p>\n",
       "</div>"
      ],
      "text/plain": [
       "        Toan    Li  Hoa\n",
       "0        8.2   NaN  NaN\n",
       "1        8.6  8.25  4.5\n",
       "2        5.2   NaN  NaN\n",
       "3        4.4   NaN  NaN\n",
       "4        5.8   NaN  NaN\n",
       "...      ...   ...  ...\n",
       "811846   4.4   NaN  NaN\n",
       "811847   5.2  3.75  4.5\n",
       "811848   2.8   NaN  NaN\n",
       "811849   6.2   NaN  NaN\n",
       "811850   6.4  5.25  4.5\n",
       "\n",
       "[811851 rows x 3 columns]"
      ]
     },
     "execution_count": 124,
     "metadata": {},
     "output_type": "execute_result"
    }
   ],
   "source": [
    "df[['Toan', 'Li', 'Hoa']]"
   ]
  },
  {
   "cell_type": "markdown",
   "metadata": {},
   "source": [
    "### Số lượng các bản ghi tương ứng giống nhau (tương tự như Counter)"
   ]
  },
  {
   "cell_type": "code",
   "execution_count": 125,
   "metadata": {},
   "outputs": [
    {
     "data": {
      "text/plain": [
       "10.0       12\n",
       "9.8       163\n",
       "9.6       644\n",
       "9.4      1460\n",
       "9.2      2578\n",
       "9.0      4393\n",
       "8.8      6441\n",
       "8.6      9293\n",
       "8.4     12270\n",
       "8.2     15838\n",
       "8.0     19701\n",
       "7.8     22988\n",
       "7.6     25911\n",
       "7.4     28373\n",
       "7.2     29877\n",
       "7.0     30996\n",
       "6.8     31416\n",
       "6.6     31387\n",
       "6.4     31644\n",
       "6.2     31486\n",
       "6.0     31502\n",
       "5.8     31476\n",
       "5.6     31552\n",
       "5.4     31053\n",
       "5.2     29904\n",
       "5.0     29194\n",
       "4.8     27892\n",
       "4.6     26442\n",
       "4.4     25279\n",
       "4.2     23606\n",
       "4.0     22469\n",
       "3.8     21108\n",
       "3.6     19868\n",
       "3.4     19009\n",
       "3.2     18298\n",
       "3.0     17068\n",
       "2.8     15703\n",
       "2.6     13938\n",
       "2.4     11446\n",
       "2.2      8962\n",
       "2.0      6500\n",
       "1.8      4081\n",
       "1.6      2327\n",
       "1.4      1217\n",
       "1.2       547\n",
       "1.0       227\n",
       "0.8        73\n",
       "0.6        36\n",
       "0.4         6\n",
       "0.2         1\n",
       "0.0       107\n",
       "Name: Toan, dtype: int64"
      ]
     },
     "execution_count": 125,
     "metadata": {},
     "output_type": "execute_result"
    }
   ],
   "source": [
    "df['Toan'].value_counts().sort_index(ascending=False)"
   ]
  },
  {
   "cell_type": "markdown",
   "metadata": {},
   "source": [
    "### Vẽ biểu đồ thể hiện"
   ]
  },
  {
   "cell_type": "code",
   "execution_count": 126,
   "metadata": {},
   "outputs": [
    {
     "data": {
      "text/plain": [
       "<AxesSubplot:>"
      ]
     },
     "execution_count": 126,
     "metadata": {},
     "output_type": "execute_result"
    },
    {
     "data": {
      "image/png": "[encoded data removed]",
      "text/plain": [
       "<Figure size 1080x360 with 1 Axes>"
      ]
     },
     "metadata": {},
     "output_type": "display_data"
    }
   ],
   "source": [
    "df['Toan'].value_counts(bins = 10).sort_index(ascending=True).plot(kind='bar')"
   ]
  },
  {
   "cell_type": "markdown",
   "metadata": {},
   "source": [
    "### Tính điểm KHTN, KHXH"
   ]
  },
  {
   "cell_type": "code",
   "execution_count": 127,
   "metadata": {},
   "outputs": [],
   "source": [
    "df['KHTN'] = round((df['Sinh'] + df['Li'] + df['Hoa'])/3, 2)\n",
    "df['KHXH'] = round((df['Su'] + df['Dia'] + df['GDCD'])/3, 2)"
   ]
  },
  {
   "cell_type": "code",
   "execution_count": 128,
   "metadata": {},
   "outputs": [
    {
     "name": "stdout",
     "output_type": "stream",
     "text": [
      "<class 'pandas.core.frame.DataFrame'>\n",
      "Int64Index: 811851 entries, 0 to 811850\n",
      "Data columns (total 13 columns):\n",
      " #   Column            Non-Null Count   Dtype  \n",
      "---  ------            --------------   -----  \n",
      " 0   Dia               535897 non-null  float64\n",
      " 1   GDCD              470905 non-null  float64\n",
      " 2   Hoa               295544 non-null  float64\n",
      " 3   Li                292166 non-null  float64\n",
      " 4   Ma_mon_ngoai_ngu  728513 non-null  object \n",
      " 5   Ngoai_ngu         728513 non-null  float64\n",
      " 6   Sinh              291199 non-null  float64\n",
      " 7   Su                542729 non-null  float64\n",
      " 8   Toan              807762 non-null  float64\n",
      " 9   Van               799208 non-null  float64\n",
      " 10  sbd               811851 non-null  int64  \n",
      " 11  KHTN              286429 non-null  float64\n",
      " 12  KHXH              470826 non-null  float64\n",
      "dtypes: float64(11), int64(1), object(1)\n",
      "memory usage: 86.7+ MB\n"
     ]
    }
   ],
   "source": [
    "df.info()"
   ]
  },
  {
   "cell_type": "code",
   "execution_count": 129,
   "metadata": {},
   "outputs": [
    {
     "data": {
      "text/plain": [
       "(450, 13)"
      ]
     },
     "execution_count": 129,
     "metadata": {},
     "output_type": "execute_result"
    }
   ],
   "source": [
    "df[df['Toan'] <= 1].shape"
   ]
  },
  {
   "cell_type": "markdown",
   "metadata": {},
   "source": [
    "### Điểm trung bình môn Toán"
   ]
  },
  {
   "cell_type": "code",
   "execution_count": 130,
   "metadata": {},
   "outputs": [
    {
     "data": {
      "text/plain": [
       "5.5737479604139715"
      ]
     },
     "execution_count": 130,
     "metadata": {},
     "output_type": "execute_result"
    }
   ],
   "source": [
    "df['Toan'].mean()"
   ]
  },
  {
   "cell_type": "markdown",
   "metadata": {},
   "source": [
    "### Danh sách học sinh bị điểm liệt"
   ]
  },
  {
   "cell_type": "code",
   "execution_count": 131,
   "metadata": {},
   "outputs": [
    {
     "data": {
      "text/html": [
       "<div>\n",
       "<style scoped>\n",
       "    .dataframe tbody tr th:only-of-type {\n",
       "        vertical-align: middle;\n",
       "    }\n",
       "\n",
       "    .dataframe tbody tr th {\n",
       "        vertical-align: top;\n",
       "    }\n",
       "\n",
       "    .dataframe thead th {\n",
       "        text-align: right;\n",
       "    }\n",
       "</style>\n",
       "<table border=\"1\" class=\"dataframe\">\n",
       "  <thead>\n",
       "    <tr style=\"text-align: right;\">\n",
       "      <th></th>\n",
       "      <th>Dia</th>\n",
       "      <th>GDCD</th>\n",
       "      <th>Hoa</th>\n",
       "      <th>Li</th>\n",
       "      <th>Ma_mon_ngoai_ngu</th>\n",
       "      <th>Ngoai_ngu</th>\n",
       "      <th>Sinh</th>\n",
       "      <th>Su</th>\n",
       "      <th>Toan</th>\n",
       "      <th>Van</th>\n",
       "      <th>sbd</th>\n",
       "      <th>KHTN</th>\n",
       "      <th>KHXH</th>\n",
       "      <th>is_pass</th>\n",
       "    </tr>\n",
       "  </thead>\n",
       "  <tbody>\n",
       "    <tr>\n",
       "      <th>629</th>\n",
       "      <td>6.25</td>\n",
       "      <td>NaN</td>\n",
       "      <td>NaN</td>\n",
       "      <td>NaN</td>\n",
       "      <td>NaN</td>\n",
       "      <td>NaN</td>\n",
       "      <td>NaN</td>\n",
       "      <td>3.50</td>\n",
       "      <td>NaN</td>\n",
       "      <td>1.00</td>\n",
       "      <td>51000649</td>\n",
       "      <td>NaN</td>\n",
       "      <td>NaN</td>\n",
       "      <td>False</td>\n",
       "    </tr>\n",
       "    <tr>\n",
       "      <th>1469</th>\n",
       "      <td>3.00</td>\n",
       "      <td>NaN</td>\n",
       "      <td>NaN</td>\n",
       "      <td>NaN</td>\n",
       "      <td>NaN</td>\n",
       "      <td>NaN</td>\n",
       "      <td>NaN</td>\n",
       "      <td>1.00</td>\n",
       "      <td>2.0</td>\n",
       "      <td>3.25</td>\n",
       "      <td>51001484</td>\n",
       "      <td>NaN</td>\n",
       "      <td>NaN</td>\n",
       "      <td>False</td>\n",
       "    </tr>\n",
       "    <tr>\n",
       "      <th>4022</th>\n",
       "      <td>3.50</td>\n",
       "      <td>5.50</td>\n",
       "      <td>NaN</td>\n",
       "      <td>NaN</td>\n",
       "      <td>N1</td>\n",
       "      <td>1.0</td>\n",
       "      <td>NaN</td>\n",
       "      <td>4.50</td>\n",
       "      <td>3.4</td>\n",
       "      <td>2.25</td>\n",
       "      <td>28026400</td>\n",
       "      <td>NaN</td>\n",
       "      <td>4.50</td>\n",
       "      <td>False</td>\n",
       "    </tr>\n",
       "    <tr>\n",
       "      <th>4893</th>\n",
       "      <td>0.00</td>\n",
       "      <td>NaN</td>\n",
       "      <td>NaN</td>\n",
       "      <td>NaN</td>\n",
       "      <td>NaN</td>\n",
       "      <td>NaN</td>\n",
       "      <td>NaN</td>\n",
       "      <td>4.00</td>\n",
       "      <td>2.6</td>\n",
       "      <td>2.50</td>\n",
       "      <td>28027269</td>\n",
       "      <td>NaN</td>\n",
       "      <td>NaN</td>\n",
       "      <td>False</td>\n",
       "    </tr>\n",
       "    <tr>\n",
       "      <th>4928</th>\n",
       "      <td>5.50</td>\n",
       "      <td>7.25</td>\n",
       "      <td>NaN</td>\n",
       "      <td>NaN</td>\n",
       "      <td>N1</td>\n",
       "      <td>0.6</td>\n",
       "      <td>NaN</td>\n",
       "      <td>4.00</td>\n",
       "      <td>2.6</td>\n",
       "      <td>6.50</td>\n",
       "      <td>28027314</td>\n",
       "      <td>NaN</td>\n",
       "      <td>5.58</td>\n",
       "      <td>False</td>\n",
       "    </tr>\n",
       "    <tr>\n",
       "      <th>...</th>\n",
       "      <td>...</td>\n",
       "      <td>...</td>\n",
       "      <td>...</td>\n",
       "      <td>...</td>\n",
       "      <td>...</td>\n",
       "      <td>...</td>\n",
       "      <td>...</td>\n",
       "      <td>...</td>\n",
       "      <td>...</td>\n",
       "      <td>...</td>\n",
       "      <td>...</td>\n",
       "      <td>...</td>\n",
       "      <td>...</td>\n",
       "      <td>...</td>\n",
       "    </tr>\n",
       "    <tr>\n",
       "      <th>809765</th>\n",
       "      <td>6.50</td>\n",
       "      <td>NaN</td>\n",
       "      <td>NaN</td>\n",
       "      <td>NaN</td>\n",
       "      <td>NaN</td>\n",
       "      <td>NaN</td>\n",
       "      <td>NaN</td>\n",
       "      <td>4.50</td>\n",
       "      <td>1.0</td>\n",
       "      <td>2.00</td>\n",
       "      <td>26017016</td>\n",
       "      <td>NaN</td>\n",
       "      <td>NaN</td>\n",
       "      <td>False</td>\n",
       "    </tr>\n",
       "    <tr>\n",
       "      <th>811572</th>\n",
       "      <td>4.00</td>\n",
       "      <td>7.25</td>\n",
       "      <td>NaN</td>\n",
       "      <td>NaN</td>\n",
       "      <td>N1</td>\n",
       "      <td>1.0</td>\n",
       "      <td>NaN</td>\n",
       "      <td>4.25</td>\n",
       "      <td>4.2</td>\n",
       "      <td>3.00</td>\n",
       "      <td>26018826</td>\n",
       "      <td>NaN</td>\n",
       "      <td>5.17</td>\n",
       "      <td>False</td>\n",
       "    </tr>\n",
       "    <tr>\n",
       "      <th>811676</th>\n",
       "      <td>NaN</td>\n",
       "      <td>NaN</td>\n",
       "      <td>3.5</td>\n",
       "      <td>1.00</td>\n",
       "      <td>N1</td>\n",
       "      <td>4.0</td>\n",
       "      <td>3.25</td>\n",
       "      <td>NaN</td>\n",
       "      <td>5.8</td>\n",
       "      <td>6.50</td>\n",
       "      <td>26018937</td>\n",
       "      <td>2.58</td>\n",
       "      <td>NaN</td>\n",
       "      <td>False</td>\n",
       "    </tr>\n",
       "    <tr>\n",
       "      <th>811683</th>\n",
       "      <td>NaN</td>\n",
       "      <td>NaN</td>\n",
       "      <td>3.5</td>\n",
       "      <td>0.75</td>\n",
       "      <td>N1</td>\n",
       "      <td>3.2</td>\n",
       "      <td>4.00</td>\n",
       "      <td>NaN</td>\n",
       "      <td>3.8</td>\n",
       "      <td>4.00</td>\n",
       "      <td>26018935</td>\n",
       "      <td>2.75</td>\n",
       "      <td>NaN</td>\n",
       "      <td>False</td>\n",
       "    </tr>\n",
       "    <tr>\n",
       "      <th>811767</th>\n",
       "      <td>5.50</td>\n",
       "      <td>6.00</td>\n",
       "      <td>NaN</td>\n",
       "      <td>NaN</td>\n",
       "      <td>N1</td>\n",
       "      <td>1.0</td>\n",
       "      <td>NaN</td>\n",
       "      <td>2.75</td>\n",
       "      <td>5.0</td>\n",
       "      <td>5.00</td>\n",
       "      <td>26019022</td>\n",
       "      <td>NaN</td>\n",
       "      <td>4.75</td>\n",
       "      <td>False</td>\n",
       "    </tr>\n",
       "  </tbody>\n",
       "</table>\n",
       "<p>3571 rows × 14 columns</p>\n",
       "</div>"
      ],
      "text/plain": [
       "         Dia  GDCD  Hoa    Li Ma_mon_ngoai_ngu  Ngoai_ngu  Sinh    Su  Toan  \\\n",
       "629     6.25   NaN  NaN   NaN              NaN        NaN   NaN  3.50   NaN   \n",
       "1469    3.00   NaN  NaN   NaN              NaN        NaN   NaN  1.00   2.0   \n",
       "4022    3.50  5.50  NaN   NaN               N1        1.0   NaN  4.50   3.4   \n",
       "4893    0.00   NaN  NaN   NaN              NaN        NaN   NaN  4.00   2.6   \n",
       "4928    5.50  7.25  NaN   NaN               N1        0.6   NaN  4.00   2.6   \n",
       "...      ...   ...  ...   ...              ...        ...   ...   ...   ...   \n",
       "809765  6.50   NaN  NaN   NaN              NaN        NaN   NaN  4.50   1.0   \n",
       "811572  4.00  7.25  NaN   NaN               N1        1.0   NaN  4.25   4.2   \n",
       "811676   NaN   NaN  3.5  1.00               N1        4.0  3.25   NaN   5.8   \n",
       "811683   NaN   NaN  3.5  0.75               N1        3.2  4.00   NaN   3.8   \n",
       "811767  5.50  6.00  NaN   NaN               N1        1.0   NaN  2.75   5.0   \n",
       "\n",
       "         Van       sbd  KHTN  KHXH  is_pass  \n",
       "629     1.00  51000649   NaN   NaN    False  \n",
       "1469    3.25  51001484   NaN   NaN    False  \n",
       "4022    2.25  28026400   NaN  4.50    False  \n",
       "4893    2.50  28027269   NaN   NaN    False  \n",
       "4928    6.50  28027314   NaN  5.58    False  \n",
       "...      ...       ...   ...   ...      ...  \n",
       "809765  2.00  26017016   NaN   NaN    False  \n",
       "811572  3.00  26018826   NaN  5.17    False  \n",
       "811676  6.50  26018937  2.58   NaN    False  \n",
       "811683  4.00  26018935  2.75   NaN    False  \n",
       "811767  5.00  26019022   NaN  4.75    False  \n",
       "\n",
       "[3571 rows x 14 columns]"
      ]
     },
     "execution_count": 131,
     "metadata": {},
     "output_type": "execute_result"
    }
   ],
   "source": [
    "mon_thi = ['Dia', 'GDCD', 'Hoa', 'Li', 'Ngoai_ngu', 'Sinh', 'Su', 'Toan', 'Van']\n",
    "df['is_pass'] = sum([df[index] <= 1 for index in mon_thi]) == 0\n",
    "df[df.is_pass == 0]"
   ]
  },
  {
   "cell_type": "code",
   "execution_count": 168,
   "metadata": {},
   "outputs": [],
   "source": [
    "diem_khoi_A = df['Toan'] + df['Li'] + df['Hoa']\n",
    "diem_khoi_B = df['Li'] + df['Hoa'] + df['Sinh']"
   ]
  },
  {
   "cell_type": "code",
   "execution_count": 172,
   "metadata": {},
   "outputs": [
    {
     "name": "stdout",
     "output_type": "stream",
     "text": [
      "Diem TB khoi A: 17.72\n"
     ]
    },
    {
     "data": {
      "image/png": "[encoded data removed]",
      "text/plain": [
       "<Figure size 1080x360 with 1 Axes>"
      ]
     },
     "metadata": {},
     "output_type": "display_data"
    }
   ],
   "source": [
    "diem_khoi_A.value_counts(bins = np.arange(30)).sort_index().plot(kind='bar')\n",
    "print('Diem TB khoi A: ' + str(round(diem_khoi_A.mean(), 2)))"
   ]
  },
  {
   "cell_type": "markdown",
   "metadata": {},
   "source": [
    "### Số lượng thí sinh trên 27 điểm"
   ]
  },
  {
   "cell_type": "code",
   "execution_count": 184,
   "metadata": {},
   "outputs": [
    {
     "name": "stdout",
     "output_type": "stream",
     "text": [
      "số lượng thí sinh từ 27 điểm trở lên là: 295 chiếm 0.1 %\n"
     ]
    }
   ],
   "source": [
    "diem_khoi_A_27 = diem_khoi_A[diem_khoi_A > 27].count()\n",
    "tong_thi_sinh_khoi_A =diem_khoi_A.count()\n",
    "print(\"số lượng thí sinh từ 27 điểm trở lên là: {0} chiếm {1} %\".format(diem_khoi_A_27, round(diem_khoi_A_27*100/tong_thi_sinh_khoi_A, 2)))"
   ]
  },
  {
   "cell_type": "markdown",
   "metadata": {},
   "source": [
    "### Số lượng thí sinh từ  24 - 27 điểm"
   ]
  },
  {
   "cell_type": "code",
   "execution_count": 206,
   "metadata": {},
   "outputs": [
    {
     "name": "stdout",
     "output_type": "stream",
     "text": [
      "số lượng thí sinh từ 24 - 27 điểm trở lên là: 9343 chiếm 3.21 %\n"
     ]
    }
   ],
   "source": [
    "diem_khoi_A_24 = diem_khoi_A[(24 < diem_khoi_A) & (diem_khoi_A < 27)].count()\n",
    "tong_thi_sinh_khoi_A =diem_khoi_A.count()\n",
    "print(\"số lượng thí sinh từ 24 - 27 điểm trở lên là: {0} chiếm {1} %\".format(diem_khoi_A_24, round(diem_khoi_A_24*100/tong_thi_sinh_khoi_A, 2)))"
   ]
  },
  {
   "cell_type": "code",
   "execution_count": 252,
   "metadata": {},
   "outputs": [
    {
     "data": {
      "text/html": [
       "<div>\n",
       "<style scoped>\n",
       "    .dataframe tbody tr th:only-of-type {\n",
       "        vertical-align: middle;\n",
       "    }\n",
       "\n",
       "    .dataframe tbody tr th {\n",
       "        vertical-align: top;\n",
       "    }\n",
       "\n",
       "    .dataframe thead th {\n",
       "        text-align: right;\n",
       "    }\n",
       "</style>\n",
       "<table border=\"1\" class=\"dataframe\">\n",
       "  <thead>\n",
       "    <tr style=\"text-align: right;\">\n",
       "      <th></th>\n",
       "      <th>sbd</th>\n",
       "      <th>Toan</th>\n",
       "      <th>Li</th>\n",
       "      <th>Hoa</th>\n",
       "      <th>Diem_khoi_A</th>\n",
       "    </tr>\n",
       "  </thead>\n",
       "  <tbody>\n",
       "    <tr>\n",
       "      <th>6355</th>\n",
       "      <td>28028736</td>\n",
       "      <td>9.8</td>\n",
       "      <td>9.25</td>\n",
       "      <td>10.00</td>\n",
       "      <td>29.05</td>\n",
       "    </tr>\n",
       "    <tr>\n",
       "      <th>656063</th>\n",
       "      <td>28018525</td>\n",
       "      <td>9.8</td>\n",
       "      <td>9.50</td>\n",
       "      <td>9.50</td>\n",
       "      <td>28.80</td>\n",
       "    </tr>\n",
       "    <tr>\n",
       "      <th>489147</th>\n",
       "      <td>15000027</td>\n",
       "      <td>9.8</td>\n",
       "      <td>9.25</td>\n",
       "      <td>9.75</td>\n",
       "      <td>28.80</td>\n",
       "    </tr>\n",
       "    <tr>\n",
       "      <th>346036</th>\n",
       "      <td>1068360</td>\n",
       "      <td>10.0</td>\n",
       "      <td>9.25</td>\n",
       "      <td>9.50</td>\n",
       "      <td>28.75</td>\n",
       "    </tr>\n",
       "    <tr>\n",
       "      <th>88483</th>\n",
       "      <td>28015875</td>\n",
       "      <td>9.6</td>\n",
       "      <td>9.50</td>\n",
       "      <td>9.50</td>\n",
       "      <td>28.60</td>\n",
       "    </tr>\n",
       "    <tr>\n",
       "      <th>...</th>\n",
       "      <td>...</td>\n",
       "      <td>...</td>\n",
       "      <td>...</td>\n",
       "      <td>...</td>\n",
       "      <td>...</td>\n",
       "    </tr>\n",
       "    <tr>\n",
       "      <th>547122</th>\n",
       "      <td>63005112</td>\n",
       "      <td>0.0</td>\n",
       "      <td>0.00</td>\n",
       "      <td>0.00</td>\n",
       "      <td>0.00</td>\n",
       "    </tr>\n",
       "    <tr>\n",
       "      <th>415120</th>\n",
       "      <td>59000772</td>\n",
       "      <td>0.0</td>\n",
       "      <td>0.00</td>\n",
       "      <td>0.00</td>\n",
       "      <td>0.00</td>\n",
       "    </tr>\n",
       "    <tr>\n",
       "      <th>415382</th>\n",
       "      <td>59001027</td>\n",
       "      <td>0.0</td>\n",
       "      <td>0.00</td>\n",
       "      <td>0.00</td>\n",
       "      <td>0.00</td>\n",
       "    </tr>\n",
       "    <tr>\n",
       "      <th>415723</th>\n",
       "      <td>59001372</td>\n",
       "      <td>0.0</td>\n",
       "      <td>0.00</td>\n",
       "      <td>0.00</td>\n",
       "      <td>0.00</td>\n",
       "    </tr>\n",
       "    <tr>\n",
       "      <th>374679</th>\n",
       "      <td>63001924</td>\n",
       "      <td>0.0</td>\n",
       "      <td>0.00</td>\n",
       "      <td>0.00</td>\n",
       "      <td>0.00</td>\n",
       "    </tr>\n",
       "  </tbody>\n",
       "</table>\n",
       "<p>290759 rows × 5 columns</p>\n",
       "</div>"
      ],
      "text/plain": [
       "             sbd  Toan    Li    Hoa  Diem_khoi_A\n",
       "6355    28028736   9.8  9.25  10.00        29.05\n",
       "656063  28018525   9.8  9.50   9.50        28.80\n",
       "489147  15000027   9.8  9.25   9.75        28.80\n",
       "346036   1068360  10.0  9.25   9.50        28.75\n",
       "88483   28015875   9.6  9.50   9.50        28.60\n",
       "...          ...   ...   ...    ...          ...\n",
       "547122  63005112   0.0  0.00   0.00         0.00\n",
       "415120  59000772   0.0  0.00   0.00         0.00\n",
       "415382  59001027   0.0  0.00   0.00         0.00\n",
       "415723  59001372   0.0  0.00   0.00         0.00\n",
       "374679  63001924   0.0  0.00   0.00         0.00\n",
       "\n",
       "[290759 rows x 5 columns]"
      ]
     },
     "execution_count": 252,
     "metadata": {},
     "output_type": "execute_result"
    }
   ],
   "source": [
    "df['Diem_khoi_A'] = diem_khoi_A\n",
    "df[['sbd', 'Toan', 'Li', 'Hoa', 'Diem_khoi_A']].dropna().sort_values('Diem_khoi_A', ascending = False)"
   ]
  },
  {
   "cell_type": "code",
   "execution_count": 10,
   "metadata": {},
   "outputs": [],
   "source": [
    "Data_test = \"\"\"\n",
    "A: 10000\n",
    "B: 200000\n",
    "ádasdasd\n",
    "C: 111000\n",
    "ádas\n",
    "A: 10001\n",
    "B: 200020\n",
    "C: 111030\n",
    "A: 10020\n",
    "B: 200100\n",
    "C: 111200\n",
    "\n",
    "\"\"\""
   ]
  },
  {
   "cell_type": "code",
   "execution_count": 12,
   "metadata": {},
   "outputs": [
    {
     "name": "stdout",
     "output_type": "stream",
     "text": [
      "\n",
      "A: 10000\n",
      "B: 200000\n",
      "ádasdasd\n",
      "C: 111000\n",
      "ádas\n",
      "A: 10001\n",
      "B: 200020\n",
      "C: 111030\n",
      "A: 10020\n",
      "B: 200100\n",
      "C: 111200\n",
      "\n",
      "\n"
     ]
    }
   ],
   "source": [
    "print(Data_test)"
   ]
  },
  {
   "cell_type": "code",
   "execution_count": 19,
   "metadata": {},
   "outputs": [],
   "source": [
    "import re\n",
    "\n",
    "pattern = '(A: .*)\\n(B:.*)|(C: .*)'\n",
    "data = re.findall(pattern, Data_test)"
   ]
  },
  {
   "cell_type": "code",
   "execution_count": 20,
   "metadata": {},
   "outputs": [
    {
     "data": {
      "text/plain": [
       "[('A: 10000', 'B: 200000', ''),\n",
       " ('', '', 'C: 111000'),\n",
       " ('A: 10001', 'B: 200020', ''),\n",
       " ('', '', 'C: 111030'),\n",
       " ('A: 10020', 'B: 200100', ''),\n",
       " ('', '', 'C: 111200')]"
      ]
     },
     "execution_count": 20,
     "metadata": {},
     "output_type": "execute_result"
    }
   ],
   "source": [
    "data"
   ]
  },
  {
   "cell_type": "code",
   "execution_count": 21,
   "metadata": {},
   "outputs": [],
   "source": [
    "Data = ['A: 10000', 'B: 200000', 'sdasdas', 'C: 111000', 'A: 10000', 'B: 200000', 'C: 2000']"
   ]
  },
  {
   "cell_type": "code",
   "execution_count": 22,
   "metadata": {},
   "outputs": [
    {
     "data": {
      "text/plain": [
       "['2021-01-19',\n",
       " '06:55:48,774',\n",
       " 'INFO',\n",
       " 'com.bgt.BGTClient',\n",
       " '[qtp1013312187-28]',\n",
       " 'msisdn',\n",
       " '=',\n",
       " '0903191894',\n",
       " ',',\n",
       " 'newCustomer',\n",
       " 'content',\n",
       " ':',\n",
       " '{\"result\":\"true\",\"id\":\"121528879\",\"pass\":\"3678737645\"}']"
      ]
     },
     "execution_count": 22,
     "metadata": {},
     "output_type": "execute_result"
    }
   ],
   "source": [
    "log = '2021-01-19 06:55:48,774 INFO com.bgt.BGTClient [qtp1013312187-28] msisdn = 0903191894 , newCustomer content : {\"result\":\"true\",\"id\":\"121528879\",\"pass\":\"3678737645\"}'\n",
    "log.split(' ')"
   ]
  },
  {
   "cell_type": "code",
   "execution_count": null,
   "metadata": {},
   "outputs": [],
   "source": []
  }
 ],
 "metadata": {
  "kernelspec": {
   "display_name": "Python 3",
   "language": "python",
   "name": "python3"
  },
  "language_info": {
   "codemirror_mode": {
    "name": "ipython",
    "version": 3
   },
   "file_extension": ".py",
   "mimetype": "text/x-python",
   "name": "python",
   "nbconvert_exporter": "python",
   "pygments_lexer": "ipython3",
   "version": "3.8.8"
  }
 },
 "nbformat": 4,
 "nbformat_minor": 4
}
