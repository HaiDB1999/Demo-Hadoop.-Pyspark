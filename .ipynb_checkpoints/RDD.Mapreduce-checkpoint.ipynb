{
 "cells": [
  {
   "cell_type": "code",
   "execution_count": 62,
   "id": "3308018f",
   "metadata": {},
   "outputs": [],
   "source": [
    "import pyspark \n",
    "from pyspark import SparkContext, SparkConf\n",
    "from pyspark.sql import SparkSession\n",
    "import re\n",
    "\n",
    "try:\n",
    "    sc.stop()\n",
    "except:\n",
    "    pass\n",
    "con = SparkConf()\\\n",
    "    .setAppName('RDD Mapreduce')\\\n",
    "    .setMaster(\"spark://linux:7077\")\\\n",
    "    .set(\"spark.executor.memory\", \"2g\") \\\n",
    "    .set('spark.cores.max','4')\n",
    "sc = SparkContext(conf = con)\n",
    "sparkSession = SparkSession(sc)"
   ]
  },
  {
   "cell_type": "code",
   "execution_count": 70,
   "id": "5776c306",
   "metadata": {},
   "outputs": [
    {
     "name": "stdout",
     "output_type": "stream",
     "text": [
      "CPU times: user 9.51 ms, sys: 0 ns, total: 9.51 ms\n",
      "Wall time: 675 ms\n"
     ]
    },
    {
     "data": {
      "text/plain": [
       "[('N1', 726064),\n",
       " ('', 83338),\n",
       " ('N4', 801),\n",
       " ('N5', 81),\n",
       " ('N2', 148),\n",
       " ('Ma_mon_ngoai_ngu', 1),\n",
       " ('N6', 773),\n",
       " ('N3', 646)]"
      ]
     },
     "execution_count": 70,
     "metadata": {},
     "output_type": "execute_result"
    }
   ],
   "source": [
    "%%time\n",
    "data = sc.textFile('hdfs://localhost:9001/data/diemthi2019/diemthi2019.csv')\n",
    "rs = data.map(lambda x: (x.split(',')[5], 1)).reduceByKey(lambda a, b: a+b)\n",
    "rs.collect()"
   ]
  },
  {
   "cell_type": "code",
   "execution_count": 71,
   "id": "6c9b2566",
   "metadata": {},
   "outputs": [
    {
     "name": "stdout",
     "output_type": "stream",
     "text": [
      "+----------------+------+\n",
      "|Ma_mon_ngoai_ngu| count|\n",
      "+----------------+------+\n",
      "|            null| 83338|\n",
      "|              N3|   646|\n",
      "|              N2|   148|\n",
      "|              N5|    81|\n",
      "|              N4|   801|\n",
      "|              N6|   773|\n",
      "|              N1|726064|\n",
      "+----------------+------+\n",
      "\n",
      "CPU times: user 4.02 ms, sys: 0 ns, total: 4.02 ms\n",
      "Wall time: 896 ms\n"
     ]
    }
   ],
   "source": [
    "%%time\n",
    "\n",
    "df = sparkSession.read.csv('hdfs://localhost:9001/data/diemthi2019/diemthi2019.csv', header = True)\n",
    "df.select('Ma_mon_ngoai_ngu').groupBy('Ma_mon_ngoai_ngu').count().show()"
   ]
  },
  {
   "cell_type": "code",
   "execution_count": 73,
   "id": "8e235839",
   "metadata": {},
   "outputs": [],
   "source": [
    "sparkSession.stop()\n",
    "sc.stop()"
   ]
  },
  {
   "cell_type": "code",
   "execution_count": null,
   "id": "9b2c25f2",
   "metadata": {},
   "outputs": [],
   "source": []
  }
 ],
 "metadata": {
  "kernelspec": {
   "display_name": "Python 3",
   "language": "python",
   "name": "python3"
  },
  "language_info": {
   "codemirror_mode": {
    "name": "ipython",
    "version": 3
   },
   "file_extension": ".py",
   "mimetype": "text/x-python",
   "name": "python",
   "nbconvert_exporter": "python",
   "pygments_lexer": "ipython3",
   "version": "3.8.8"
  }
 },
 "nbformat": 4,
 "nbformat_minor": 5
}
