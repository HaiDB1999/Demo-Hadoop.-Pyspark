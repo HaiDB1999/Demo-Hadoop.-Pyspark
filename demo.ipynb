{
 "cells": [
  {
   "cell_type": "code",
   "execution_count": 1,
   "metadata": {
    "scrolled": true
   },
   "outputs": [
    {
     "name": "stdout",
     "output_type": "stream",
     "text": [
      "sc have not yet created!\n",
      "<SparkContext master=spark://master:7077 appName=First App>\n"
     ]
    }
   ],
   "source": [
    "from pyspark import SparkContext, SparkConf, SparkContext\n",
    "\n",
    "try: \n",
    "    sc.stop()\n",
    "except:\n",
    "    print(\"sc have not yet created!\")\n",
    "conf = SparkConf().setAppName(\"First App\").setMaster(\"spark://master:7077\")\n",
    "sc = SparkContext(conf=conf)\n",
    "print(sc)"
   ]
  },
  {
   "cell_type": "markdown",
   "metadata": {},
   "source": [
    "# Create Seasion"
   ]
  },
  {
   "cell_type": "code",
   "execution_count": 2,
   "metadata": {
    "scrolled": true
   },
   "outputs": [
    {
     "name": "stdout",
     "output_type": "stream",
     "text": [
      "<pyspark.sql.session.SparkSession object at 0x7f58ece1bc70>\n"
     ]
    }
   ],
   "source": [
    "# khoi tao seasion\n",
    "from pyspark.sql import SparkSession, SQLContext\n",
    "# my_spark = SparkSession.builder.getOrCreate()\n",
    "my_spark = SparkSession(sc)\n",
    "print(my_spark)"
   ]
  },
  {
   "cell_type": "code",
   "execution_count": 3,
   "metadata": {},
   "outputs": [
    {
     "data": {
      "text/plain": [
       "[]"
      ]
     },
     "execution_count": 3,
     "metadata": {},
     "output_type": "execute_result"
    }
   ],
   "source": [
    "# show all data in my_spark \n",
    "my_spark.catalog.listTables()"
   ]
  },
  {
   "cell_type": "markdown",
   "metadata": {},
   "source": [
    "# Mở file lưu trên HDFS"
   ]
  },
  {
   "cell_type": "code",
   "execution_count": 4,
   "metadata": {},
   "outputs": [],
   "source": [
    "data = my_spark.read.csv('hdfs://localhost:9000/user/input/flights.csv', header=True)\n",
    "airport = my_spark.read.csv('airports.csv', header=True)\n",
    "airlines = my_spark.read.csv('airlines.csv', header=True)"
   ]
  },
  {
   "cell_type": "code",
   "execution_count": 5,
   "metadata": {
    "scrolled": false
   },
   "outputs": [
    {
     "name": "stdout",
     "output_type": "stream",
     "text": [
      "+----+-----+---+-----------+-------+-------------+-----------+--------------+-------------------+-------------------+--------------+---------------+--------+----------+--------------+------------+--------+--------+---------+-------+-----------------+------------+-------------+--------+---------+-------------------+----------------+--------------+-------------+-------------------+-------------+\n",
      "|YEAR|MONTH|DAY|DAY_OF_WEEK|AIRLINE|FLIGHT_NUMBER|TAIL_NUMBER|ORIGIN_AIRPORT|DESTINATION_AIRPORT|SCHEDULED_DEPARTURE|DEPARTURE_TIME|DEPARTURE_DELAY|TAXI_OUT|WHEELS_OFF|SCHEDULED_TIME|ELAPSED_TIME|AIR_TIME|DISTANCE|WHEELS_ON|TAXI_IN|SCHEDULED_ARRIVAL|ARRIVAL_TIME|ARRIVAL_DELAY|DIVERTED|CANCELLED|CANCELLATION_REASON|AIR_SYSTEM_DELAY|SECURITY_DELAY|AIRLINE_DELAY|LATE_AIRCRAFT_DELAY|WEATHER_DELAY|\n",
      "+----+-----+---+-----------+-------+-------------+-----------+--------------+-------------------+-------------------+--------------+---------------+--------+----------+--------------+------------+--------+--------+---------+-------+-----------------+------------+-------------+--------+---------+-------------------+----------------+--------------+-------------+-------------------+-------------+\n",
      "|2015|    1|  1|          4|     AS|           98|     N407AS|           ANC|                SEA|               0005|          2354|            -11|      21|      0015|           205|         194|     169|    1448|     0404|      4|             0430|        0408|          -22|       0|        0|               null|            null|          null|         null|               null|         null|\n",
      "|2015|    1|  1|          4|     AA|         2336|     N3KUAA|           LAX|                PBI|               0010|          0002|             -8|      12|      0014|           280|         279|     263|    2330|     0737|      4|             0750|        0741|           -9|       0|        0|               null|            null|          null|         null|               null|         null|\n",
      "|2015|    1|  1|          4|     US|          840|     N171US|           SFO|                CLT|               0020|          0018|             -2|      16|      0034|           286|         293|     266|    2296|     0800|     11|             0806|        0811|            5|       0|        0|               null|            null|          null|         null|               null|         null|\n",
      "|2015|    1|  1|          4|     AA|          258|     N3HYAA|           LAX|                MIA|               0020|          0015|             -5|      15|      0030|           285|         281|     258|    2342|     0748|      8|             0805|        0756|           -9|       0|        0|               null|            null|          null|         null|               null|         null|\n",
      "|2015|    1|  1|          4|     AS|          135|     N527AS|           SEA|                ANC|               0025|          0024|             -1|      11|      0035|           235|         215|     199|    1448|     0254|      5|             0320|        0259|          -21|       0|        0|               null|            null|          null|         null|               null|         null|\n",
      "+----+-----+---+-----------+-------+-------------+-----------+--------------+-------------------+-------------------+--------------+---------------+--------+----------+--------------+------------+--------+--------+---------+-------+-----------------+------------+-------------+--------+---------+-------------------+----------------+--------------+-------------+-------------------+-------------+\n",
      "only showing top 5 rows\n",
      "\n"
     ]
    }
   ],
   "source": [
    "data.show(5)"
   ]
  },
  {
   "cell_type": "code",
   "execution_count": 6,
   "metadata": {
    "scrolled": true
   },
   "outputs": [
    {
     "name": "stdout",
     "output_type": "stream",
     "text": [
      "root\n",
      " |-- YEAR: string (nullable = true)\n",
      " |-- MONTH: string (nullable = true)\n",
      " |-- DAY: string (nullable = true)\n",
      " |-- DAY_OF_WEEK: string (nullable = true)\n",
      " |-- AIRLINE: string (nullable = true)\n",
      " |-- FLIGHT_NUMBER: string (nullable = true)\n",
      " |-- TAIL_NUMBER: string (nullable = true)\n",
      " |-- ORIGIN_AIRPORT: string (nullable = true)\n",
      " |-- DESTINATION_AIRPORT: string (nullable = true)\n",
      " |-- SCHEDULED_DEPARTURE: string (nullable = true)\n",
      " |-- DEPARTURE_TIME: string (nullable = true)\n",
      " |-- DEPARTURE_DELAY: string (nullable = true)\n",
      " |-- TAXI_OUT: string (nullable = true)\n",
      " |-- WHEELS_OFF: string (nullable = true)\n",
      " |-- SCHEDULED_TIME: string (nullable = true)\n",
      " |-- ELAPSED_TIME: string (nullable = true)\n",
      " |-- AIR_TIME: string (nullable = true)\n",
      " |-- DISTANCE: string (nullable = true)\n",
      " |-- WHEELS_ON: string (nullable = true)\n",
      " |-- TAXI_IN: string (nullable = true)\n",
      " |-- SCHEDULED_ARRIVAL: string (nullable = true)\n",
      " |-- ARRIVAL_TIME: string (nullable = true)\n",
      " |-- ARRIVAL_DELAY: string (nullable = true)\n",
      " |-- DIVERTED: string (nullable = true)\n",
      " |-- CANCELLED: string (nullable = true)\n",
      " |-- CANCELLATION_REASON: string (nullable = true)\n",
      " |-- AIR_SYSTEM_DELAY: string (nullable = true)\n",
      " |-- SECURITY_DELAY: string (nullable = true)\n",
      " |-- AIRLINE_DELAY: string (nullable = true)\n",
      " |-- LATE_AIRCRAFT_DELAY: string (nullable = true)\n",
      " |-- WEATHER_DELAY: string (nullable = true)\n",
      "\n"
     ]
    }
   ],
   "source": [
    "# show info schema\n",
    "data.printSchema()"
   ]
  },
  {
   "cell_type": "code",
   "execution_count": 7,
   "metadata": {},
   "outputs": [
    {
     "data": {
      "text/plain": [
       "[Table(name='airlines', database=None, description=None, tableType='TEMPORARY', isTemporary=True),\n",
       " Table(name='airports', database=None, description=None, tableType='TEMPORARY', isTemporary=True),\n",
       " Table(name='flights', database=None, description=None, tableType='TEMPORARY', isTemporary=True)]"
      ]
     },
     "execution_count": 7,
     "metadata": {},
     "output_type": "execute_result"
    }
   ],
   "source": [
    "# Them bang bảng vao catalog\n",
    "\n",
    "data.createOrReplaceTempView('Flights')\n",
    "airlines.createOrReplaceTempView('Airlines')\n",
    "airport.createOrReplaceTempView('Airports')\n",
    "my_spark.catalog.listTables()"
   ]
  },
  {
   "cell_type": "markdown",
   "metadata": {},
   "source": [
    "# Thao tac SQL tren Dataframe và spark.sql"
   ]
  },
  {
   "cell_type": "code",
   "execution_count": 8,
   "metadata": {},
   "outputs": [
    {
     "name": "stdout",
     "output_type": "stream",
     "text": [
      "+-----------+-----------+\n",
      "|DAY_OF_WEEK|NUM_OF_WEEK|\n",
      "+-----------+-----------+\n",
      "|          1|     865543|\n",
      "|          2|     844600|\n",
      "|          3|     855897|\n",
      "|          4|     872521|\n",
      "|          5|     862209|\n",
      "|          6|     700545|\n",
      "|          7|     817764|\n",
      "+-----------+-----------+\n",
      "\n",
      "5.991016864776611\n"
     ]
    }
   ],
   "source": [
    "# Đếm số lượng các chuyến bay trong tuần\n",
    "\n",
    "import time\n",
    "t1 = time.time()\n",
    "data.groupBy('DAY_OF_WEEK')\\\n",
    "    .count().alias(\"NUM_OF_WEEK\")\\\n",
    "    .sort(\"DAY_OF_WEEK\")\\\n",
    "    .withColumnRenamed(\"count\", \"NUM_OF_WEEK\")\\\n",
    "    .show()\n",
    "print(time.time()-t1)"
   ]
  },
  {
   "cell_type": "code",
   "execution_count": 9,
   "metadata": {},
   "outputs": [
    {
     "name": "stdout",
     "output_type": "stream",
     "text": [
      "+-----------+-----------+\n",
      "|DAY_OF_WEEK|NUM_OF_WEEK|\n",
      "+-----------+-----------+\n",
      "|          1|     865543|\n",
      "|          2|     844600|\n",
      "|          3|     855897|\n",
      "|          4|     872521|\n",
      "|          5|     862209|\n",
      "|          6|     700545|\n",
      "|          7|     817764|\n",
      "+-----------+-----------+\n",
      "\n",
      "4.10817551612854\n"
     ]
    }
   ],
   "source": [
    "t1 = time.time()\n",
    "my_spark.sql(\"\"\"SELECT DAY_OF_WEEK, count('DAY_OF_WEEK') AS NUM_OF_WEEK \n",
    "                FROM Flights \n",
    "                GROUP BY DAY_OF_WEEK \n",
    "                ORDER BY DAY_OF_WEEK\n",
    "                \"\"\").show()\n",
    "print(time.time()-t1)"
   ]
  },
  {
   "cell_type": "code",
   "execution_count": 10,
   "metadata": {},
   "outputs": [
    {
     "name": "stdout",
     "output_type": "stream",
     "text": [
      "+-------+-------------+--------------+-------------------+--------+\n",
      "|AIRLINE|FLIGHT_NUMBER|ORIGIN_AIRPORT|DESTINATION_AIRPORT|DISTANCE|\n",
      "+-------+-------------+--------------+-------------------+--------+\n",
      "|     AS|           98|           ANC|                SEA|    1448|\n",
      "|     AA|         2336|           LAX|                PBI|    2330|\n",
      "|     US|          840|           SFO|                CLT|    2296|\n",
      "|     AA|          258|           LAX|                MIA|    2342|\n",
      "|     AS|          135|           SEA|                ANC|    1448|\n",
      "|     DL|          806|           SFO|                MSP|    1589|\n",
      "|     NK|          612|           LAS|                MSP|    1299|\n",
      "|     US|         2013|           LAX|                CLT|    2125|\n",
      "|     AA|         1112|           SFO|                DFW|    1464|\n",
      "|     DL|         1173|           LAS|                ATL|    1747|\n",
      "+-------+-------------+--------------+-------------------+--------+\n",
      "only showing top 10 rows\n",
      "\n"
     ]
    }
   ],
   "source": [
    "# Hiển thị các chuyến bay với khoảng cách lớn hơn 1000\n",
    "my_spark.sql(\"\"\"SELECT AIRLINE, FLIGHT_NUMBER, ORIGIN_AIRPORT, DESTINATION_AIRPORT, DISTANCE\n",
    "                FROM Flights\n",
    "                WHERE DISTANCE>1000\n",
    "             \"\"\")\\\n",
    "        .show(10)\n",
    "\n"
   ]
  },
  {
   "cell_type": "code",
   "execution_count": 24,
   "metadata": {
    "scrolled": true
   },
   "outputs": [
    {
     "name": "stdout",
     "output_type": "stream",
     "text": [
      "+----+-----+---+-----------+-------+-------------+-----------+--------------+-------------------+-------------------+--------------+---------------+--------+----------+--------------+------------+--------+--------+---------+-------+-----------------+------------+-------------+--------+---------+-------------------+----------------+--------------+-------------+-------------------+-------------+\n",
      "|YEAR|MONTH|DAY|DAY_OF_WEEK|AIRLINE|FLIGHT_NUMBER|TAIL_NUMBER|ORIGIN_AIRPORT|DESTINATION_AIRPORT|SCHEDULED_DEPARTURE|DEPARTURE_TIME|DEPARTURE_DELAY|TAXI_OUT|WHEELS_OFF|SCHEDULED_TIME|ELAPSED_TIME|AIR_TIME|DISTANCE|WHEELS_ON|TAXI_IN|SCHEDULED_ARRIVAL|ARRIVAL_TIME|ARRIVAL_DELAY|DIVERTED|CANCELLED|CANCELLATION_REASON|AIR_SYSTEM_DELAY|SECURITY_DELAY|AIRLINE_DELAY|LATE_AIRCRAFT_DELAY|WEATHER_DELAY|\n",
      "+----+-----+---+-----------+-------+-------------+-----------+--------------+-------------------+-------------------+--------------+---------------+--------+----------+--------------+------------+--------+--------+---------+-------+-----------------+------------+-------------+--------+---------+-------------------+----------------+--------------+-------------+-------------------+-------------+\n",
      "|2015|    1|  1|          4|     AS|          477|     N453AS|           LAX|                SEA|               0600|          0555|             -5|      21|      0616|           170|         166|     141|     954|     0837|      4|             0850|        0841|           -9|       0|        0|               null|            null|          null|         null|               null|         null|\n",
      "|2015|    1|  1|          4|     AS|          569|     N471AS|           LAX|                PDX|               0640|          0639|             -1|      16|      0655|           150|         144|     124|     834|     0859|      4|             0910|        0903|           -7|       0|        0|               null|            null|          null|         null|               null|         null|\n",
      "|2015|    1|  1|          4|     AS|          445|     N579AS|           LAX|                SEA|               0700|          0655|             -5|      15|      0710|           170|         160|     139|     954|     0929|      6|             0950|        0935|          -15|       0|        0|               null|            null|          null|         null|               null|         null|\n",
      "|2015|    1|  1|          4|     AS|          455|     N462AS|           LAX|                SEA|               0840|          0839|             -1|      20|      0859|           167|         161|     134|     954|     1113|      7|             1127|        1120|           -7|       0|        0|               null|            null|          null|         null|               null|         null|\n",
      "|2015|    1|  1|          4|     AS|          563|     N403AS|           LAX|                PDX|               0900|          0903|              3|      19|      0922|           145|         142|     120|     834|     1122|      3|             1125|        1125|            0|       0|        0|               null|            null|          null|         null|               null|         null|\n",
      "+----+-----+---+-----------+-------+-------------+-----------+--------------+-------------------+-------------------+--------------+---------------+--------+----------+--------------+------------+--------+--------+---------+-------+-----------------+------------+-------------+--------+---------+-------------------+----------------+--------------+-------------+-------------------+-------------+\n",
      "only showing top 5 rows\n",
      "\n"
     ]
    }
   ],
   "source": [
    "# Hiển thị các chuyến bay từ của hàng AS cất cánh từ LAX\n",
    "df = my_spark.sql(\"\"\"\n",
    "                SELECT * FROM Flights\n",
    "                WHERE (AIRLINE == 'AS') AND (ORIGIN_AIRPORT == 'LAX')\n",
    "            \"\"\")\n",
    "df.show(5)"
   ]
  },
  {
   "cell_type": "code",
   "execution_count": null,
   "metadata": {},
   "outputs": [],
   "source": []
  }
 ],
 "metadata": {
  "kernelspec": {
   "display_name": "Python 3",
   "language": "python",
   "name": "python3"
  },
  "language_info": {
   "codemirror_mode": {
    "name": "ipython",
    "version": 3
   },
   "file_extension": ".py",
   "mimetype": "text/x-python",
   "name": "python",
   "nbconvert_exporter": "python",
   "pygments_lexer": "ipython3",
   "version": "3.8.5"
  }
 },
 "nbformat": 4,
 "nbformat_minor": 4
}
