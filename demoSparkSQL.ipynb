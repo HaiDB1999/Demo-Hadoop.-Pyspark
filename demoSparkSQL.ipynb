{
 "cells": [
  {
   "cell_type": "code",
   "execution_count": 9,
   "metadata": {
    "scrolled": true
   },
   "outputs": [
    {
     "name": "stdout",
     "output_type": "stream",
     "text": [
      "sc have not yet created!\n",
      "<SparkContext master=spark://master:7077 appName=First App>\n"
     ]
    }
   ],
   "source": [
    "# from pyspark import SparkContext, SparkConf\n",
    "# from pyspark.sql import SparkSession\n",
    "\n",
    "# try: \n",
    "#     sc.stop()\n",
    "# except:\n",
    "#     print(\"sc have not yet created!\")\n",
    "# conf = SparkConf().setAppName(\"First App\").setMaster(\"spark://master:7077\")\n",
    "# sc = SparkContext(conf=conf)\n",
    "# print(sc)\n",
    "# my_spark = SparkSession(sc)"
   ]
  },
  {
   "cell_type": "markdown",
   "metadata": {},
   "source": [
    "# Create Seasion"
   ]
  },
  {
   "cell_type": "code",
   "execution_count": 1,
   "metadata": {
    "scrolled": true
   },
   "outputs": [
    {
     "data": {
      "text/html": [
       "\n",
       "            <div>\n",
       "                <p><b>SparkSession - in-memory</b></p>\n",
       "                \n",
       "        <div>\n",
       "            <p><b>SparkContext</b></p>\n",
       "\n",
       "            <p><a href=\"http://linux:4041\">Spark UI</a></p>\n",
       "\n",
       "            <dl>\n",
       "              <dt>Version</dt>\n",
       "                <dd><code>v3.1.2</code></dd>\n",
       "              <dt>Master</dt>\n",
       "                <dd><code>spark://linux:7077</code></dd>\n",
       "              <dt>AppName</dt>\n",
       "                <dd><code>Firt Session</code></dd>\n",
       "            </dl>\n",
       "        </div>\n",
       "        \n",
       "            </div>\n",
       "        "
      ],
      "text/plain": [
       "<pyspark.sql.session.SparkSession at 0x7f69e5dc6a90>"
      ]
     },
     "execution_count": 1,
     "metadata": {},
     "output_type": "execute_result"
    }
   ],
   "source": [
    "# khoi tao seasion\n",
    "from pyspark.sql import SparkSession\n",
    "from pyspark.conf import SparkConf\n",
    "\n",
    "my_spark = SparkSession \\\n",
    "    .builder \\\n",
    "    .master(\"spark://linux:7077\")\\\n",
    "    .appName(\"Firt Session\") \\\n",
    "    .config(\"spark.some.config.option\", \"some-value\") \\\n",
    "    .config(\"spark.executor.memory\", \"2g\") \\\n",
    "    .config('spark.cores.max','4')\\\n",
    "    .getOrCreate()\n",
    "my_spark"
   ]
  },
  {
   "cell_type": "code",
   "execution_count": 12,
   "metadata": {},
   "outputs": [
    {
     "data": {
      "text/plain": [
       "[]"
      ]
     },
     "execution_count": 12,
     "metadata": {},
     "output_type": "execute_result"
    }
   ],
   "source": [
    "# show all data in my_spark \n",
    "my_spark.catalog.listTables()"
   ]
  },
  {
   "cell_type": "markdown",
   "metadata": {},
   "source": [
    "# Mở file lưu trên HDFS"
   ]
  },
  {
   "cell_type": "code",
   "execution_count": 3,
   "metadata": {},
   "outputs": [],
   "source": [
    "Flights = my_spark.read.csv('hdfs://localhost:9001/user/input/flights.csv', header=True)\n",
    "Airport = my_spark.read.csv('hdfs://localhost:9001/user/input/airports.csv', header=True)\n",
    "Airline = my_spark.read.csv('hdfs://localhost:9001/user/input/airlines.csv', header=True)"
   ]
  },
  {
   "cell_type": "code",
   "execution_count": 4,
   "metadata": {
    "scrolled": true
   },
   "outputs": [
    {
     "name": "stdout",
     "output_type": "stream",
     "text": [
      "+----+-----+---+-----------+-------+-------------+-----------+--------------+-------------------+-------------------+--------------+---------------+--------+----------+--------------+------------+--------+--------+---------+-------+-----------------+------------+-------------+--------+---------+-------------------+----------------+--------------+-------------+-------------------+-------------+\n",
      "|YEAR|MONTH|DAY|DAY_OF_WEEK|AIRLINE|FLIGHT_NUMBER|TAIL_NUMBER|ORIGIN_AIRPORT|DESTINATION_AIRPORT|SCHEDULED_DEPARTURE|DEPARTURE_TIME|DEPARTURE_DELAY|TAXI_OUT|WHEELS_OFF|SCHEDULED_TIME|ELAPSED_TIME|AIR_TIME|DISTANCE|WHEELS_ON|TAXI_IN|SCHEDULED_ARRIVAL|ARRIVAL_TIME|ARRIVAL_DELAY|DIVERTED|CANCELLED|CANCELLATION_REASON|AIR_SYSTEM_DELAY|SECURITY_DELAY|AIRLINE_DELAY|LATE_AIRCRAFT_DELAY|WEATHER_DELAY|\n",
      "+----+-----+---+-----------+-------+-------------+-----------+--------------+-------------------+-------------------+--------------+---------------+--------+----------+--------------+------------+--------+--------+---------+-------+-----------------+------------+-------------+--------+---------+-------------------+----------------+--------------+-------------+-------------------+-------------+\n",
      "|2015|    1|  1|          4|     AS|           98|     N407AS|           ANC|                SEA|               0005|          2354|            -11|      21|      0015|           205|         194|     169|    1448|     0404|      4|             0430|        0408|          -22|       0|        0|               null|            null|          null|         null|               null|         null|\n",
      "|2015|    1|  1|          4|     AA|         2336|     N3KUAA|           LAX|                PBI|               0010|          0002|             -8|      12|      0014|           280|         279|     263|    2330|     0737|      4|             0750|        0741|           -9|       0|        0|               null|            null|          null|         null|               null|         null|\n",
      "|2015|    1|  1|          4|     US|          840|     N171US|           SFO|                CLT|               0020|          0018|             -2|      16|      0034|           286|         293|     266|    2296|     0800|     11|             0806|        0811|            5|       0|        0|               null|            null|          null|         null|               null|         null|\n",
      "|2015|    1|  1|          4|     AA|          258|     N3HYAA|           LAX|                MIA|               0020|          0015|             -5|      15|      0030|           285|         281|     258|    2342|     0748|      8|             0805|        0756|           -9|       0|        0|               null|            null|          null|         null|               null|         null|\n",
      "|2015|    1|  1|          4|     AS|          135|     N527AS|           SEA|                ANC|               0025|          0024|             -1|      11|      0035|           235|         215|     199|    1448|     0254|      5|             0320|        0259|          -21|       0|        0|               null|            null|          null|         null|               null|         null|\n",
      "+----+-----+---+-----------+-------+-------------+-----------+--------------+-------------------+-------------------+--------------+---------------+--------+----------+--------------+------------+--------+--------+---------+-------+-----------------+------------+-------------+--------+---------+-------------------+----------------+--------------+-------------+-------------------+-------------+\n",
      "only showing top 5 rows\n",
      "\n"
     ]
    }
   ],
   "source": [
    "Flights.show(5)"
   ]
  },
  {
   "cell_type": "code",
   "execution_count": 5,
   "metadata": {
    "scrolled": true
   },
   "outputs": [
    {
     "name": "stdout",
     "output_type": "stream",
     "text": [
      "root\n",
      " |-- YEAR: string (nullable = true)\n",
      " |-- MONTH: string (nullable = true)\n",
      " |-- DAY: string (nullable = true)\n",
      " |-- DAY_OF_WEEK: string (nullable = true)\n",
      " |-- AIRLINE: string (nullable = true)\n",
      " |-- FLIGHT_NUMBER: string (nullable = true)\n",
      " |-- TAIL_NUMBER: string (nullable = true)\n",
      " |-- ORIGIN_AIRPORT: string (nullable = true)\n",
      " |-- DESTINATION_AIRPORT: string (nullable = true)\n",
      " |-- SCHEDULED_DEPARTURE: string (nullable = true)\n",
      " |-- DEPARTURE_TIME: string (nullable = true)\n",
      " |-- DEPARTURE_DELAY: string (nullable = true)\n",
      " |-- TAXI_OUT: string (nullable = true)\n",
      " |-- WHEELS_OFF: string (nullable = true)\n",
      " |-- SCHEDULED_TIME: string (nullable = true)\n",
      " |-- ELAPSED_TIME: string (nullable = true)\n",
      " |-- AIR_TIME: string (nullable = true)\n",
      " |-- DISTANCE: string (nullable = true)\n",
      " |-- WHEELS_ON: string (nullable = true)\n",
      " |-- TAXI_IN: string (nullable = true)\n",
      " |-- SCHEDULED_ARRIVAL: string (nullable = true)\n",
      " |-- ARRIVAL_TIME: string (nullable = true)\n",
      " |-- ARRIVAL_DELAY: string (nullable = true)\n",
      " |-- DIVERTED: string (nullable = true)\n",
      " |-- CANCELLED: string (nullable = true)\n",
      " |-- CANCELLATION_REASON: string (nullable = true)\n",
      " |-- AIR_SYSTEM_DELAY: string (nullable = true)\n",
      " |-- SECURITY_DELAY: string (nullable = true)\n",
      " |-- AIRLINE_DELAY: string (nullable = true)\n",
      " |-- LATE_AIRCRAFT_DELAY: string (nullable = true)\n",
      " |-- WEATHER_DELAY: string (nullable = true)\n",
      "\n"
     ]
    }
   ],
   "source": [
    "# show info schema\n",
    "Flights.printSchema()"
   ]
  },
  {
   "cell_type": "markdown",
   "metadata": {},
   "source": [
    "# Thao tac SQL tren Dataframe"
   ]
  },
  {
   "cell_type": "markdown",
   "metadata": {},
   "source": [
    "#### Đếm số lượng các chuyến bay trong tuần"
   ]
  },
  {
   "cell_type": "code",
   "execution_count": 8,
   "metadata": {},
   "outputs": [
    {
     "name": "stdout",
     "output_type": "stream",
     "text": [
      "+-----------+-----------+\n",
      "|DAY_OF_WEEK|NUM_OF_WEEK|\n",
      "+-----------+-----------+\n",
      "|          1|     865543|\n",
      "|          2|     844600|\n",
      "|          3|     855897|\n",
      "|          4|     872521|\n",
      "|          5|     862209|\n",
      "|          6|     700545|\n",
      "|          7|     817764|\n",
      "+-----------+-----------+\n",
      "\n",
      "CPU times: user 5.35 ms, sys: 106 µs, total: 5.46 ms\n",
      "Wall time: 5.35 s\n"
     ]
    }
   ],
   "source": [
    "%%time\n",
    "Flights.groupBy('DAY_OF_WEEK')\\\n",
    "    .count()\\\n",
    "    .sort(\"DAY_OF_WEEK\")\\\n",
    "    .withColumnRenamed(\"count\", \"NUM_OF_WEEK\")\\\n",
    "    .show()"
   ]
  },
  {
   "cell_type": "markdown",
   "metadata": {},
   "source": [
    "#### Thêm trường Hour_AirTime = AIR_TIME / 60"
   ]
  },
  {
   "cell_type": "code",
   "execution_count": 9,
   "metadata": {},
   "outputs": [
    {
     "name": "stdout",
     "output_type": "stream",
     "text": [
      "+-----------+-------+-------------+-----------------+\n",
      "|DAY_OF_WEEK|AIRLINE|FLIGHT_NUMBER|     Hour_AirTime|\n",
      "+-----------+-------+-------------+-----------------+\n",
      "|          4|     AS|           98|2.816666666666667|\n",
      "|          4|     AA|         2336|4.383333333333334|\n",
      "|          4|     US|          840|4.433333333333334|\n",
      "|          4|     AA|          258|              4.3|\n",
      "|          4|     AS|          135|3.316666666666667|\n",
      "+-----------+-------+-------------+-----------------+\n",
      "only showing top 5 rows\n",
      "\n"
     ]
    }
   ],
   "source": [
    "import pyspark.sql.functions as F\n",
    "\n",
    "Flights = Flights.withColumn('Hour_AirTime', Flights.AIR_TIME/60)\n",
    "Flights.select(\"DAY_OF_WEEK\", \"AIRLINE\", \"FLIGHT_NUMBER\", \"Hour_AirTime\").show(5)"
   ]
  },
  {
   "cell_type": "markdown",
   "metadata": {},
   "source": [
    "#### Có vẻ kết quả số thập phân hơi xấu nhỉ, ta sẽ làm tròn tới 2 chữ số nhé"
   ]
  },
  {
   "cell_type": "code",
   "execution_count": 10,
   "metadata": {},
   "outputs": [
    {
     "name": "stdout",
     "output_type": "stream",
     "text": [
      "+-----------+-------+-------------+------------+\n",
      "|DAY_OF_WEEK|AIRLINE|FLIGHT_NUMBER|Hour_AirTime|\n",
      "+-----------+-------+-------------+------------+\n",
      "|          4|     AS|           98|        2.82|\n",
      "|          4|     AA|         2336|        4.38|\n",
      "|          4|     US|          840|        4.43|\n",
      "|          4|     AA|          258|         4.3|\n",
      "|          4|     AS|          135|        3.32|\n",
      "+-----------+-------+-------------+------------+\n",
      "only showing top 5 rows\n",
      "\n"
     ]
    }
   ],
   "source": [
    "from pyspark.sql.functions import round, col\n",
    "\n",
    "Flights = Flights.withColumn('Hour_AirTime', round(col(\"Hour_AirTime\"),2))\n",
    "Flights.select(\"DAY_OF_WEEK\", \"AIRLINE\", \"FLIGHT_NUMBER\", \"Hour_AirTime\").show(5)"
   ]
  },
  {
   "cell_type": "markdown",
   "metadata": {},
   "source": [
    "#### Tính tổng số giờ bay của các hãng và sắp xếp theo thứ tứ giảm dần"
   ]
  },
  {
   "cell_type": "code",
   "execution_count": 11,
   "metadata": {},
   "outputs": [
    {
     "name": "stdout",
     "output_type": "stream",
     "text": [
      "+-------+-------------+\n",
      "|AIRLINE|Total_AirTime|\n",
      "+-------+-------------+\n",
      "|     WN|    2,134,872|\n",
      "|     DL|    1,677,679|\n",
      "|     AA|    1,661,214|\n",
      "|     UA|    1,394,956|\n",
      "|     OO|      727,315|\n",
      "|     EV|      672,765|\n",
      "|     B6|      628,286|\n",
      "|     AS|      451,015|\n",
      "|     US|      407,138|\n",
      "|     MQ|      311,223|\n",
      "|     NK|      254,092|\n",
      "|     F9|      195,557|\n",
      "|     VX|      186,429|\n",
      "|     HA|      107,575|\n",
      "+-------+-------------+\n",
      "\n"
     ]
    }
   ],
   "source": [
    "from pyspark.sql.functions import format_number\n",
    "Total_Air= Flights.groupBy(\"AIRLINE\")\\\n",
    "        .sum(\"Hour_AirTime\").withColumnRenamed(\"sum(Hour_AirTime)\", \"Total_AirTime\")\\\n",
    "        .sort(\"Total_AirTime\", ascending=False)\\\n",
    "        .withColumn(\"Total_AirTime\", format_number(col(\"Total_AirTime\"), 0))\n",
    "Total_Air.show()"
   ]
  },
  {
   "cell_type": "markdown",
   "metadata": {},
   "source": [
    "#### Join bảng Finghts với Total_Air vừa được tạo ra"
   ]
  },
  {
   "cell_type": "code",
   "execution_count": 12,
   "metadata": {},
   "outputs": [
    {
     "name": "stdout",
     "output_type": "stream",
     "text": [
      "+---------+--------------------+\n",
      "|IATA_CODE|             AIRLINE|\n",
      "+---------+--------------------+\n",
      "|       UA|United Air Lines ...|\n",
      "|       AA|American Airlines...|\n",
      "|       US|     US Airways Inc.|\n",
      "|       F9|Frontier Airlines...|\n",
      "|       B6|     JetBlue Airways|\n",
      "|       OO|Skywest Airlines ...|\n",
      "|       AS|Alaska Airlines Inc.|\n",
      "|       NK|    Spirit Air Lines|\n",
      "|       WN|Southwest Airline...|\n",
      "|       DL|Delta Air Lines Inc.|\n",
      "|       EV|Atlantic Southeas...|\n",
      "|       HA|Hawaiian Airlines...|\n",
      "|       MQ|American Eagle Ai...|\n",
      "|       VX|      Virgin America|\n",
      "+---------+--------------------+\n",
      "\n"
     ]
    }
   ],
   "source": [
    "Airline.show()"
   ]
  },
  {
   "cell_type": "code",
   "execution_count": 13,
   "metadata": {},
   "outputs": [
    {
     "name": "stdout",
     "output_type": "stream",
     "text": [
      "+--------------------+-------------+\n",
      "|             AIRLINE|Total_AirTime|\n",
      "+--------------------+-------------+\n",
      "|United Air Lines ...|    1,394,956|\n",
      "|    Spirit Air Lines|      254,092|\n",
      "|American Airlines...|    1,661,214|\n",
      "|Atlantic Southeas...|      672,765|\n",
      "|     JetBlue Airways|      628,286|\n",
      "|Delta Air Lines Inc.|    1,677,679|\n",
      "|Skywest Airlines ...|      727,315|\n",
      "|Frontier Airlines...|      195,557|\n",
      "|     US Airways Inc.|      407,138|\n",
      "|American Eagle Ai...|      311,223|\n",
      "|Hawaiian Airlines...|      107,575|\n",
      "|Alaska Airlines Inc.|      451,015|\n",
      "|      Virgin America|      186,429|\n",
      "|Southwest Airline...|    2,134,872|\n",
      "+--------------------+-------------+\n",
      "\n"
     ]
    }
   ],
   "source": [
    "cond = [Total_Air.AIRLINE == Airline.IATA_CODE]\n",
    "Total_Air.join(Airline, cond, how='inner').select(Airline.AIRLINE, Total_Air.Total_AirTime).show()"
   ]
  },
  {
   "cell_type": "markdown",
   "metadata": {},
   "source": [
    "# Thao tac SQL tren Spark.sql\n"
   ]
  },
  {
   "cell_type": "code",
   "execution_count": 14,
   "metadata": {},
   "outputs": [
    {
     "data": {
      "text/plain": [
       "[Table(name='airlines', database=None, description=None, tableType='TEMPORARY', isTemporary=True),\n",
       " Table(name='airports', database=None, description=None, tableType='TEMPORARY', isTemporary=True),\n",
       " Table(name='flights', database=None, description=None, tableType='TEMPORARY', isTemporary=True)]"
      ]
     },
     "execution_count": 14,
     "metadata": {},
     "output_type": "execute_result"
    }
   ],
   "source": [
    "# Them bang bảng vao catalog để sử dụng sql\n",
    "\n",
    "Flights.createOrReplaceTempView('Flights')\n",
    "Airline.createOrReplaceTempView('Airlines')\n",
    "Airport.createOrReplaceTempView('Airports')\n",
    "my_spark.catalog.listTables()"
   ]
  },
  {
   "cell_type": "markdown",
   "metadata": {},
   "source": [
    "#### Tính vận tốc trung bình = DISTANCE / Hour_AirTime"
   ]
  },
  {
   "cell_type": "code",
   "execution_count": 15,
   "metadata": {},
   "outputs": [
    {
     "name": "stdout",
     "output_type": "stream",
     "text": [
      "+-------------+--------------+-------------------+-----------+---------+\n",
      "|FLIGHT_NUMBER|ORIGIN_AIRPORT|DESTINATION_AIRPORT|TAIL_NUMBER|AVG_SPEED|\n",
      "+-------------+--------------+-------------------+-----------+---------+\n",
      "|           98|           ANC|                SEA|     N407AS|   513.48|\n",
      "|         2336|           LAX|                PBI|     N3KUAA|   531.96|\n",
      "|          840|           SFO|                CLT|     N171US|   518.28|\n",
      "|          258|           LAX|                MIA|     N3HYAA|   544.65|\n",
      "|          135|           SEA|                ANC|     N527AS|   436.14|\n",
      "+-------------+--------------+-------------------+-----------+---------+\n",
      "only showing top 5 rows\n",
      "\n"
     ]
    }
   ],
   "source": [
    "my_spark.sql(\"\"\"\n",
    "                SELECT FLIGHT_NUMBER, ORIGIN_AIRPORT, DESTINATION_AIRPORT, TAIL_NUMBER, \n",
    "                       ROUND(DISTANCE/Hour_AirTime, 2) AS AVG_SPEED\n",
    "                FROM Flights\n",
    "\n",
    "            \"\"\").show(5)"
   ]
  },
  {
   "cell_type": "code",
   "execution_count": 16,
   "metadata": {},
   "outputs": [
    {
     "name": "stdout",
     "output_type": "stream",
     "text": [
      "+-----------+-----------+\n",
      "|DAY_OF_WEEK|NUM_OF_WEEK|\n",
      "+-----------+-----------+\n",
      "|          1|     865543|\n",
      "|          2|     844600|\n",
      "|          3|     855897|\n",
      "|          4|     872521|\n",
      "|          5|     862209|\n",
      "|          6|     700545|\n",
      "|          7|     817764|\n",
      "+-----------+-----------+\n",
      "\n",
      "CPU times: user 2.25 ms, sys: 202 µs, total: 2.46 ms\n",
      "Wall time: 4.22 s\n"
     ]
    }
   ],
   "source": [
    "%%time\n",
    "my_spark.sql(\"\"\"SELECT DAY_OF_WEEK, count('DAY_OF_WEEK') AS NUM_OF_WEEK \n",
    "                FROM Flights \n",
    "                GROUP BY DAY_OF_WEEK \n",
    "                ORDER BY DAY_OF_WEEK\n",
    "                \"\"\").show()"
   ]
  },
  {
   "cell_type": "markdown",
   "metadata": {},
   "source": [
    "#### Hiển thị các chuyến bay với khoảng cách lớn hơn 1000"
   ]
  },
  {
   "cell_type": "code",
   "execution_count": 17,
   "metadata": {},
   "outputs": [
    {
     "name": "stdout",
     "output_type": "stream",
     "text": [
      "+-------+-------------+--------------+-------------------+--------+\n",
      "|AIRLINE|FLIGHT_NUMBER|ORIGIN_AIRPORT|DESTINATION_AIRPORT|DISTANCE|\n",
      "+-------+-------------+--------------+-------------------+--------+\n",
      "|     AS|           98|           ANC|                SEA|    1448|\n",
      "|     AA|         2336|           LAX|                PBI|    2330|\n",
      "|     US|          840|           SFO|                CLT|    2296|\n",
      "|     AA|          258|           LAX|                MIA|    2342|\n",
      "|     AS|          135|           SEA|                ANC|    1448|\n",
      "|     DL|          806|           SFO|                MSP|    1589|\n",
      "|     NK|          612|           LAS|                MSP|    1299|\n",
      "|     US|         2013|           LAX|                CLT|    2125|\n",
      "|     AA|         1112|           SFO|                DFW|    1464|\n",
      "|     DL|         1173|           LAS|                ATL|    1747|\n",
      "+-------+-------------+--------------+-------------------+--------+\n",
      "only showing top 10 rows\n",
      "\n"
     ]
    }
   ],
   "source": [
    "my_spark.sql(\"\"\"SELECT AIRLINE, FLIGHT_NUMBER, ORIGIN_AIRPORT, DESTINATION_AIRPORT, DISTANCE\n",
    "                FROM Flights\n",
    "                WHERE DISTANCE>1000\n",
    "             \"\"\")\\\n",
    "        .show(10)"
   ]
  },
  {
   "cell_type": "markdown",
   "metadata": {},
   "source": [
    "#### Hiển thị các chuyến bay từ của hàng AS cất cánh từ LAX"
   ]
  },
  {
   "cell_type": "code",
   "execution_count": 21,
   "metadata": {
    "scrolled": false
   },
   "outputs": [
    {
     "name": "stdout",
     "output_type": "stream",
     "text": [
      "+-------+--------------+---------------+---------------+--------------+--------+--------+-------------+\n",
      "|AIRLINE|ORIGIN_AIRPORT|DEPARTURE_DELAY|DEPARTURE_DELAY|SCHEDULED_TIME|AIR_TIME|DISTANCE|WEATHER_DELAY|\n",
      "+-------+--------------+---------------+---------------+--------------+--------+--------+-------------+\n",
      "|     AS|           LAX|             -5|             -5|           170|     141|     954|         null|\n",
      "|     AS|           LAX|             -1|             -1|           150|     124|     834|         null|\n",
      "|     AS|           LAX|             -5|             -5|           170|     139|     954|         null|\n",
      "|     AS|           LAX|             -1|             -1|           167|     134|     954|         null|\n",
      "|     AS|           LAX|              3|              3|           145|     120|     834|         null|\n",
      "+-------+--------------+---------------+---------------+--------------+--------+--------+-------------+\n",
      "only showing top 5 rows\n",
      "\n",
      "CPU times: user 1.81 ms, sys: 0 ns, total: 1.81 ms\n",
      "Wall time: 125 ms\n"
     ]
    }
   ],
   "source": [
    "%%time\n",
    "my_spark.sql(\"\"\"\n",
    "                select AIRLINE, ORIGIN_AIRPORT, DEPARTURE_DELAY, \n",
    "                       DEPARTURE_DELAY, SCHEDULED_TIME, AIR_TIME,\n",
    "                       DISTANCE, WEATHER_DELAY\n",
    "                from Flights\n",
    "                WHERE (AIRLINE == 'AS') AND (ORIGIN_AIRPORT == 'LAX')\n",
    "            \"\"\").show(5)"
   ]
  },
  {
   "cell_type": "code",
   "execution_count": 2,
   "metadata": {},
   "outputs": [],
   "source": [
    "data = my_spark.read.csv('hdfs://localhost:9001/log/data.log', quote=' ')"
   ]
  },
  {
   "cell_type": "code",
   "execution_count": null,
   "metadata": {},
   "outputs": [],
   "source": [
    "data."
   ]
  },
  {
   "cell_type": "code",
   "execution_count": 7,
   "metadata": {},
   "outputs": [],
   "source": [
    "my_spark.stop()"
   ]
  },
  {
   "cell_type": "code",
   "execution_count": null,
   "metadata": {},
   "outputs": [],
   "source": []
  }
 ],
 "metadata": {
  "kernelspec": {
   "display_name": "Python 3",
   "language": "python",
   "name": "python3"
  },
  "language_info": {
   "codemirror_mode": {
    "name": "ipython",
    "version": 3
   },
   "file_extension": ".py",
   "mimetype": "text/x-python",
   "name": "python",
   "nbconvert_exporter": "python",
   "pygments_lexer": "ipython3",
   "version": "3.8.8"
  }
 },
 "nbformat": 4,
 "nbformat_minor": 4
}
